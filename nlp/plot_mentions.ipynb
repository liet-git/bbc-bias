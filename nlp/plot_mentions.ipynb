{
 "cells": [
  {
   "cell_type": "code",
   "execution_count": 1,
   "id": "585815b5-7c9f-4698-8b42-ce44a58a00ff",
   "metadata": {},
   "outputs": [],
   "source": [
    "import pandas as pd\n",
    "import glob"
   ]
  },
  {
   "cell_type": "code",
   "execution_count": 2,
   "id": "a307dadb-8773-425c-ad5d-bfa8fce62716",
   "metadata": {},
   "outputs": [],
   "source": [
    "# function to process all individual csv annotations into one dataframe\n",
    "def return_df_from_files(casualty_directory):\n",
    "    df = pd.concat([pd.read_csv(f) for f in glob.glob(casualty_directory+'*.csv')])\n",
    "    \n",
    "    # make sure we do not have any duplicate sentences for same articles\n",
    "    df.drop_duplicates(['article_id', 'sentence'], keep = 'first', inplace=True)\n",
    "    \n",
    "    return df\n",
    "    \n",
    "file_annotations = return_df_from_files('./fatality_counts/')"
   ]
  },
  {
   "cell_type": "code",
   "execution_count": 4,
   "id": "7f8e3d54-e55c-4c74-a996-282ec93b350a",
   "metadata": {},
   "outputs": [
    {
     "name": "stdout",
     "output_type": "stream",
     "text": [
      "(8068, 7)\n"
     ]
    }
   ],
   "source": [
    "# otherwise we can load from saved annotations\n",
    "\n",
    "annotations_articles = pd.read_csv('./fatality_counts/summary/annotations_articles_20231007-20231202.csv')\n",
    "annotations_livefeeds = pd.read_csv('./fatality_counts/summary/annotations_livefeed_20231007-20231202.csv')\n",
    "\n",
    "combined = pd.concat([annotations_articles, annotations_livefeeds, file_annotations])\n",
    "\n",
    "#drop any duplicate annotations from files\n",
    "combined.drop_duplicates(['article_title', 'sentence'], keep = 'first', inplace=True)\n",
    "\n",
    "# set to datetime and filter for period of interest\n",
    "combined['article_date'] = pd.to_datetime(combined['article_date'])\n",
    "combined = combined[(combined['article_date'] > '2023-10-06')]\n",
    "\n",
    "print(combined.shape)"
   ]
  },
  {
   "cell_type": "code",
   "execution_count": 5,
   "id": "6b100654-95bf-4012-8155-85d29a8dbd1e",
   "metadata": {},
   "outputs": [
    {
     "data": {
      "text/html": [
       "<div>\n",
       "<style scoped>\n",
       "    .dataframe tbody tr th:only-of-type {\n",
       "        vertical-align: middle;\n",
       "    }\n",
       "\n",
       "    .dataframe tbody tr th {\n",
       "        vertical-align: top;\n",
       "    }\n",
       "\n",
       "    .dataframe thead th {\n",
       "        text-align: right;\n",
       "    }\n",
       "</style>\n",
       "<table border=\"1\" class=\"dataframe\">\n",
       "  <thead>\n",
       "    <tr style=\"text-align: right;\">\n",
       "      <th>category</th>\n",
       "      <th>article_date</th>\n",
       "      <th>both</th>\n",
       "      <th>israel</th>\n",
       "      <th>palestine</th>\n",
       "    </tr>\n",
       "  </thead>\n",
       "  <tbody>\n",
       "    <tr>\n",
       "      <th>0</th>\n",
       "      <td>2023-10-07</td>\n",
       "      <td>2.0</td>\n",
       "      <td>37.0</td>\n",
       "      <td>23.0</td>\n",
       "    </tr>\n",
       "    <tr>\n",
       "      <th>1</th>\n",
       "      <td>2023-10-08</td>\n",
       "      <td>4.0</td>\n",
       "      <td>85.0</td>\n",
       "      <td>56.0</td>\n",
       "    </tr>\n",
       "    <tr>\n",
       "      <th>2</th>\n",
       "      <td>2023-10-09</td>\n",
       "      <td>10.0</td>\n",
       "      <td>104.0</td>\n",
       "      <td>49.0</td>\n",
       "    </tr>\n",
       "    <tr>\n",
       "      <th>3</th>\n",
       "      <td>2023-10-10</td>\n",
       "      <td>1.0</td>\n",
       "      <td>65.0</td>\n",
       "      <td>41.0</td>\n",
       "    </tr>\n",
       "    <tr>\n",
       "      <th>4</th>\n",
       "      <td>2023-10-11</td>\n",
       "      <td>11.0</td>\n",
       "      <td>113.0</td>\n",
       "      <td>60.0</td>\n",
       "    </tr>\n",
       "  </tbody>\n",
       "</table>\n",
       "</div>"
      ],
      "text/plain": [
       "category article_date  both  israel  palestine\n",
       "0          2023-10-07   2.0    37.0       23.0\n",
       "1          2023-10-08   4.0    85.0       56.0\n",
       "2          2023-10-09  10.0   104.0       49.0\n",
       "3          2023-10-10   1.0    65.0       41.0\n",
       "4          2023-10-11  11.0   113.0       60.0"
      ]
     },
     "execution_count": 5,
     "metadata": {},
     "output_type": "execute_result"
    }
   ],
   "source": [
    "summary = combined.groupby(['article_date', 'category']).agg({'article_id':'count'}).reset_index().pivot(index='article_date', columns='category', values='article_id').reset_index()\n",
    "\n",
    "for column in ['both', 'israel', 'palestine']:\n",
    "    if column not in summary:\n",
    "        summary[column] = 0\n",
    "    summary[column].fillna(0, inplace=True)\n",
    "\n",
    "summary['both'].fillna(0, inplace=True)\n",
    "summary['israel'] = summary['israel'] + summary['both']\n",
    "summary['palestine'] = summary['palestine'] + summary['both']\n",
    "\n",
    "summary.head(5)"
   ]
  },
  {
   "cell_type": "code",
   "execution_count": 6,
   "id": "f2c517b5-5421-41f7-a2c2-ab92e4e4275d",
   "metadata": {},
   "outputs": [
    {
     "data": {
      "text/html": [
       "<div>\n",
       "<style scoped>\n",
       "    .dataframe tbody tr th:only-of-type {\n",
       "        vertical-align: middle;\n",
       "    }\n",
       "\n",
       "    .dataframe tbody tr th {\n",
       "        vertical-align: top;\n",
       "    }\n",
       "\n",
       "    .dataframe thead th {\n",
       "        text-align: right;\n",
       "    }\n",
       "</style>\n",
       "<table border=\"1\" class=\"dataframe\">\n",
       "  <thead>\n",
       "    <tr style=\"text-align: right;\">\n",
       "      <th>category</th>\n",
       "      <th>article_date</th>\n",
       "      <th>israel</th>\n",
       "      <th>palestine</th>\n",
       "    </tr>\n",
       "  </thead>\n",
       "  <tbody>\n",
       "    <tr>\n",
       "      <th>0</th>\n",
       "      <td>2023-10-07</td>\n",
       "      <td>509.0</td>\n",
       "      <td>306.0</td>\n",
       "    </tr>\n",
       "    <tr>\n",
       "      <th>1</th>\n",
       "      <td>2023-10-14</td>\n",
       "      <td>282.0</td>\n",
       "      <td>276.0</td>\n",
       "    </tr>\n",
       "    <tr>\n",
       "      <th>2</th>\n",
       "      <td>2023-10-21</td>\n",
       "      <td>205.0</td>\n",
       "      <td>320.0</td>\n",
       "    </tr>\n",
       "    <tr>\n",
       "      <th>3</th>\n",
       "      <td>2023-10-28</td>\n",
       "      <td>189.0</td>\n",
       "      <td>281.0</td>\n",
       "    </tr>\n",
       "    <tr>\n",
       "      <th>4</th>\n",
       "      <td>2023-11-04</td>\n",
       "      <td>164.0</td>\n",
       "      <td>322.0</td>\n",
       "    </tr>\n",
       "  </tbody>\n",
       "</table>\n",
       "</div>"
      ],
      "text/plain": [
       "category article_date  israel  palestine\n",
       "0          2023-10-07   509.0      306.0\n",
       "1          2023-10-14   282.0      276.0\n",
       "2          2023-10-21   205.0      320.0\n",
       "3          2023-10-28   189.0      281.0\n",
       "4          2023-11-04   164.0      322.0"
      ]
     },
     "execution_count": 6,
     "metadata": {},
     "output_type": "execute_result"
    }
   ],
   "source": [
    "summary_grouped = summary.groupby(pd.Grouper(key='article_date', freq='7D')).agg({'israel':'sum', 'palestine':'sum'}).reset_index()\n",
    "summary_grouped = summary_grouped[summary_grouped['article_date'] < '2024-07-01']\n",
    "\n",
    "summary_grouped.head(5)"
   ]
  },
  {
   "cell_type": "code",
   "execution_count": 183,
   "id": "8e6c3f79-b5bf-4117-991c-dbfbdefc540f",
   "metadata": {},
   "outputs": [
    {
     "data": {
      "application/vnd.plotly.v1+json": {
       "config": {
        "plotlyServerURL": "https://plot.ly"
       },
       "data": [
        {
         "hovertemplate": "variable=israel<br>article_date=%{x}<br>value=%{y}<extra></extra>",
         "legendgroup": "israel",
         "line": {
          "color": "#636efa",
          "dash": "solid"
         },
         "marker": {
          "symbol": "circle"
         },
         "mode": "lines",
         "name": "israel",
         "orientation": "v",
         "showlegend": true,
         "type": "scatter",
         "x": [
          "2023-10-07T00:00:00",
          "2023-10-14T00:00:00",
          "2023-10-21T00:00:00",
          "2023-10-28T00:00:00",
          "2023-11-04T00:00:00",
          "2023-11-11T00:00:00",
          "2023-11-18T00:00:00",
          "2023-11-25T00:00:00",
          "2023-12-02T00:00:00",
          "2023-12-09T00:00:00",
          "2023-12-16T00:00:00",
          "2023-12-23T00:00:00",
          "2023-12-30T00:00:00",
          "2024-01-06T00:00:00",
          "2024-01-13T00:00:00",
          "2024-01-20T00:00:00",
          "2024-01-27T00:00:00",
          "2024-02-03T00:00:00",
          "2024-02-10T00:00:00",
          "2024-02-17T00:00:00",
          "2024-02-24T00:00:00",
          "2024-03-02T00:00:00",
          "2024-03-09T00:00:00",
          "2024-03-16T00:00:00",
          "2024-03-23T00:00:00",
          "2024-03-30T00:00:00",
          "2024-04-06T00:00:00",
          "2024-04-13T00:00:00",
          "2024-04-20T00:00:00",
          "2024-04-27T00:00:00",
          "2024-05-04T00:00:00",
          "2024-05-11T00:00:00",
          "2024-05-18T00:00:00",
          "2024-05-25T00:00:00",
          "2024-06-01T00:00:00",
          "2024-06-08T00:00:00",
          "2024-06-15T00:00:00",
          "2024-06-22T00:00:00",
          "2024-06-29T00:00:00"
         ],
         "xaxis": "x",
         "y": [
          509,
          282,
          205,
          189,
          164,
          122,
          112,
          169,
          109,
          107,
          149,
          28,
          21,
          42,
          78,
          69,
          42,
          41,
          28,
          42,
          38,
          37,
          39,
          27,
          19,
          42,
          84,
          20,
          21,
          34,
          64,
          58,
          32,
          23,
          29,
          46,
          15,
          20,
          22
         ],
         "yaxis": "y"
        },
        {
         "hovertemplate": "variable=palestine<br>article_date=%{x}<br>value=%{y}<extra></extra>",
         "legendgroup": "palestine",
         "line": {
          "color": "#EF553B",
          "dash": "solid"
         },
         "marker": {
          "symbol": "circle"
         },
         "mode": "lines",
         "name": "palestine",
         "orientation": "v",
         "showlegend": true,
         "type": "scatter",
         "x": [
          "2023-10-07T00:00:00",
          "2023-10-14T00:00:00",
          "2023-10-21T00:00:00",
          "2023-10-28T00:00:00",
          "2023-11-04T00:00:00",
          "2023-11-11T00:00:00",
          "2023-11-18T00:00:00",
          "2023-11-25T00:00:00",
          "2023-12-02T00:00:00",
          "2023-12-09T00:00:00",
          "2023-12-16T00:00:00",
          "2023-12-23T00:00:00",
          "2023-12-30T00:00:00",
          "2024-01-06T00:00:00",
          "2024-01-13T00:00:00",
          "2024-01-20T00:00:00",
          "2024-01-27T00:00:00",
          "2024-02-03T00:00:00",
          "2024-02-10T00:00:00",
          "2024-02-17T00:00:00",
          "2024-02-24T00:00:00",
          "2024-03-02T00:00:00",
          "2024-03-09T00:00:00",
          "2024-03-16T00:00:00",
          "2024-03-23T00:00:00",
          "2024-03-30T00:00:00",
          "2024-04-06T00:00:00",
          "2024-04-13T00:00:00",
          "2024-04-20T00:00:00",
          "2024-04-27T00:00:00",
          "2024-05-04T00:00:00",
          "2024-05-11T00:00:00",
          "2024-05-18T00:00:00",
          "2024-05-25T00:00:00",
          "2024-06-01T00:00:00",
          "2024-06-08T00:00:00",
          "2024-06-15T00:00:00",
          "2024-06-22T00:00:00",
          "2024-06-29T00:00:00"
         ],
         "xaxis": "x",
         "y": [
          306,
          276,
          320,
          281,
          322,
          310,
          169,
          158,
          187,
          171,
          169,
          77,
          144,
          84,
          43,
          52,
          45,
          20,
          98,
          63,
          116,
          108,
          75,
          63,
          51,
          331,
          173,
          55,
          110,
          56,
          76,
          63,
          37,
          95,
          79,
          69,
          22,
          40,
          33
         ],
         "yaxis": "y"
        }
       ],
       "layout": {
        "legend": {
         "title": {
          "text": ""
         },
         "tracegroupgap": 0
        },
        "margin": {
         "t": 60
        },
        "paper_bgcolor": "wheat",
        "plot_bgcolor": "wheat",
        "template": {
         "data": {
          "pie": [
           {
            "automargin": true,
            "type": "pie"
           }
          ],
          "scatter": [
           {
            "line": {
             "width": 3
            },
            "marker": {
             "size": 9
            },
            "type": "scatter"
           }
          ],
          "scatter3d": [
           {
            "line": {
             "width": 3
            },
            "marker": {
             "size": 9
            },
            "type": "scatter3d"
           }
          ],
          "scattergeo": [
           {
            "line": {
             "width": 3
            },
            "marker": {
             "size": 9
            },
            "type": "scattergeo"
           }
          ],
          "scattergl": [
           {
            "line": {
             "width": 3
            },
            "marker": {
             "size": 9
            },
            "type": "scattergl"
           }
          ],
          "scatterpolar": [
           {
            "line": {
             "width": 3
            },
            "marker": {
             "size": 9
            },
            "type": "scatterpolar"
           }
          ],
          "scatterpolargl": [
           {
            "line": {
             "width": 3
            },
            "marker": {
             "size": 9
            },
            "type": "scatterpolargl"
           }
          ],
          "scatterternary": [
           {
            "line": {
             "width": 3
            },
            "marker": {
             "size": 9
            },
            "type": "scatterternary"
           }
          ],
          "table": [
           {
            "cells": {
             "height": 30
            },
            "header": {
             "height": 36
            },
            "type": "table"
           }
          ]
         },
         "layout": {
          "font": {
           "size": 18
          },
          "xaxis": {
           "title": {
            "standoff": 15
           }
          },
          "yaxis": {
           "title": {
            "standoff": 15
           }
          }
         }
        },
        "title": {
         "text": "Mentions of Palestinian and Israeli Deaths by the BBC"
        },
        "xaxis": {
         "anchor": "y",
         "domain": [
          0,
          1
         ],
         "showgrid": false,
         "title": {
          "text": ""
         },
         "zeroline": false
        },
        "yaxis": {
         "anchor": "x",
         "domain": [
          0,
          1
         ],
         "showgrid": false,
         "title": {
          "text": ""
         },
         "zeroline": false
        }
       }
      }
     },
     "metadata": {},
     "output_type": "display_data"
    }
   ],
   "source": [
    "import plotly.express as px\n",
    "\n",
    "fig = px.line(summary_grouped, x=\"article_date\", y=summary_grouped.columns[1:3])\n",
    "fig.update_layout(\n",
    "    xaxis=dict(showgrid=False, zeroline=False),\n",
    "    yaxis=dict(showgrid=False, zeroline=False),\n",
    "    xaxis_title=\"\",\n",
    "    yaxis_title=\"\",\n",
    "    legend_title=\"\",\n",
    "    title=\"Mentions of Palestinian and Israeli Deaths by the BBC\",\n",
    "    template=\"presentation\",\n",
    "    plot_bgcolor=\"wheat\",\n",
    "    paper_bgcolor=\"wheat\"\n",
    ")\n",
    "fig.show()"
   ]
  }
 ],
 "metadata": {
  "kernelspec": {
   "display_name": "Python 3 (ipykernel)",
   "language": "python",
   "name": "python3"
  },
  "language_info": {
   "codemirror_mode": {
    "name": "ipython",
    "version": 3
   },
   "file_extension": ".py",
   "mimetype": "text/x-python",
   "name": "python",
   "nbconvert_exporter": "python",
   "pygments_lexer": "ipython3",
   "version": "3.10.9"
  }
 },
 "nbformat": 4,
 "nbformat_minor": 5
}
