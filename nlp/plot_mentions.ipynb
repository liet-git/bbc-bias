{
 "cells": [
  {
   "cell_type": "code",
   "execution_count": null,
   "id": "585815b5-7c9f-4698-8b42-ce44a58a00ff",
   "metadata": {},
   "outputs": [],
   "source": [
    "import pandas as pd\n",
    "import glob"
   ]
  },
  {
   "cell_type": "markdown",
   "id": "a71b36d1-af92-4637-b4c6-b77d2b945f06",
   "metadata": {},
   "source": [
    "# Process data"
   ]
  },
  {
   "cell_type": "code",
   "execution_count": null,
   "id": "a307dadb-8773-425c-ad5d-bfa8fce62716",
   "metadata": {},
   "outputs": [],
   "source": [
    "# function to process all individual csv annotations into one dataframe\n",
    "def return_df_from_files(casualty_directory):\n",
    "    df = pd.concat([pd.read_csv(f) for f in glob.glob(casualty_directory+'*.csv')])\n",
    "    \n",
    "    # make sure we do not have any duplicate sentences for same articles\n",
    "    df.drop_duplicates(['article_id', 'sentence'], keep = 'first', inplace=True)\n",
    "    \n",
    "    return df\n",
    "    \n",
    "file_annotations = return_df_from_files('./fatality_counts/')"
   ]
  },
  {
   "cell_type": "code",
   "execution_count": null,
   "id": "7f8e3d54-e55c-4c74-a996-282ec93b350a",
   "metadata": {},
   "outputs": [],
   "source": [
    "# otherwise we can load from saved annotations\n",
    "\n",
    "annotations_articles = pd.read_csv('./fatality_counts/summary/annotations_articles_20231007-20231202.csv')\n",
    "annotations_livefeeds = pd.read_csv('./fatality_counts/summary/annotations_livefeed_20231007-20231202.csv')\n",
    "\n",
    "combined = pd.concat([annotations_articles, annotations_livefeeds, file_annotations])\n",
    "\n",
    "#drop any duplicate annotations from files\n",
    "combined.drop_duplicates(['article_title', 'sentence'], keep = 'first', inplace=True)\n",
    "\n",
    "# set to datetime and filter for period of interest\n",
    "combined['article_date'] = pd.to_datetime(combined['article_date'])\n",
    "combined = combined[(combined['article_date'] > '2023-10-06')]\n",
    "\n",
    "print(combined.shape)"
   ]
  },
  {
   "cell_type": "code",
   "execution_count": null,
   "id": "6b100654-95bf-4012-8155-85d29a8dbd1e",
   "metadata": {},
   "outputs": [],
   "source": [
    "summary = combined.groupby(['article_date', 'category']).agg({'article_id':'count'}).reset_index().pivot(index='article_date', columns='category', values='article_id').reset_index()\n",
    "\n",
    "for column in ['both', 'israel', 'palestine']:\n",
    "    if column not in summary:\n",
    "        summary[column] = 0\n",
    "    summary[column].fillna(0, inplace=True)\n",
    "\n",
    "summary['both'].fillna(0, inplace=True)\n",
    "summary['israel'] = summary['israel'] + summary['both']\n",
    "summary['palestine'] = summary['palestine'] + summary['both']\n",
    "\n",
    "summary.head(5)"
   ]
  },
  {
   "cell_type": "code",
   "execution_count": null,
   "id": "f2c517b5-5421-41f7-a2c2-ab92e4e4275d",
   "metadata": {},
   "outputs": [],
   "source": [
    "summary_grouped = summary.groupby(pd.Grouper(key='article_date', freq='7D')).agg({'israel':'sum', 'palestine':'sum'}).reset_index()\n",
    "summary_grouped = summary_grouped[summary_grouped['article_date'] < '2024-07-01']\n",
    "\n",
    "summary_grouped.rename(columns={\n",
    "    'palestine': 'Palestine',\n",
    "    'israel':'Israel'\n",
    "}, inplace=True)\n",
    "\n",
    "summary_grouped.head(5)"
   ]
  },
  {
   "cell_type": "markdown",
   "id": "bc150def-7952-4158-b34b-6d284fe871b6",
   "metadata": {},
   "source": [
    "# Plot mentions"
   ]
  },
  {
   "cell_type": "code",
   "execution_count": null,
   "id": "8e6c3f79-b5bf-4117-991c-dbfbdefc540f",
   "metadata": {},
   "outputs": [],
   "source": [
    "import plotly.express as px\n",
    "\n",
    "fig = px.line(summary_grouped, x=\"article_date\", y=summary_grouped.columns[1:3])\n",
    "fig.update_layout(\n",
    "    xaxis=dict(showgrid=True, zeroline=False),\n",
    "    yaxis=dict(showgrid=True, zeroline=False),\n",
    "    xaxis_title=\"\",\n",
    "    yaxis_title=\"\",\n",
    "    legend_title=\"\",\n",
    "    title=\"Mentions of Palestinian and Israeli Deaths by the BBC\",\n",
    "    template=\"presentation\",\n",
    "    plot_bgcolor=\"wheat\",\n",
    "    paper_bgcolor=\"wheat\",\n",
    "    width=1400,\n",
    "    height=800,\n",
    "    xaxis_range=['2023-09-21','2024-07-21'],\n",
    ")\n",
    "fig.show()"
   ]
  },
  {
   "cell_type": "markdown",
   "id": "aa3b11dc-513b-470d-b512-d15dba75b784",
   "metadata": {},
   "source": [
    "# Plot deaths"
   ]
  },
  {
   "cell_type": "code",
   "execution_count": null,
   "id": "4a90abe2",
   "metadata": {},
   "outputs": [],
   "source": [
    "deaths_palestine = pd.read_json('./casualty_data/casualties_daily.json')\n",
    "deaths_israel = pd.read_csv('./casualty_data/idf_casualties.csv')"
   ]
  },
  {
   "cell_type": "code",
   "execution_count": null,
   "id": "1edb0e2c-66a6-44c4-8470-6458b15c6abb",
   "metadata": {},
   "outputs": [],
   "source": [
    "deaths_israel['date'] = pd.to_datetime(deaths_israel['date'])\n",
    "deaths_palestine['report_date'] = pd.to_datetime(deaths_palestine['report_date'])"
   ]
  },
  {
   "cell_type": "code",
   "execution_count": null,
   "id": "a5b6ecee-dc3f-427a-9a66-a637e859b571",
   "metadata": {},
   "outputs": [],
   "source": [
    "deaths_combined = deaths_palestine[['report_date','killed_cum']].merge(deaths_israel[['date','cum_num_deaths']], left_on='report_date', right_on='date', how = 'outer')\n",
    "deaths_combined.drop(['date'], axis=1, inplace=True)\n",
    "deaths_combined = deaths_combined[deaths_combined['report_date'] < '2024-07-01'].rename(columns={'killed_cum':'Palestine', 'cum_num_deaths':'Israel'})"
   ]
  },
  {
   "cell_type": "code",
   "execution_count": null,
   "id": "bd773990-0549-4e50-96ca-6ede66a5a51f",
   "metadata": {},
   "outputs": [],
   "source": [
    "deaths_combined['Palestine'] = deaths_combined['Palestine'].fillna(method='bfill')\n",
    "deaths_combined['Israel'] = deaths_combined['Israel'].fillna(method='bfill')"
   ]
  },
  {
   "cell_type": "code",
   "execution_count": null,
   "id": "beddad97-280b-442e-bac0-d1648d74fe64",
   "metadata": {},
   "outputs": [],
   "source": [
    "fig = px.line(deaths_combined, x=\"report_date\", y=deaths_combined.columns[1:3], labels=['1','2'])\n",
    "\n",
    "fig.update_layout(\n",
    "    xaxis=dict(showgrid=True, zeroline=False),\n",
    "    yaxis=dict(showgrid=True, zeroline=False),\n",
    "    xaxis_title=\"\",\n",
    "    yaxis_title=\"\",\n",
    "    legend_title=\"\",\n",
    "    title=\"Israeli and Palestinian Deaths (Cumulative)\",\n",
    "    template=\"presentation\",\n",
    "    plot_bgcolor=\"wheat\",\n",
    "    paper_bgcolor=\"wheat\",\n",
    "    width=1200,\n",
    "    height=800,\n",
    "    xaxis_range=['2023-09-21','2024-07-21'],\n",
    ")\n",
    "fig.show()"
   ]
  }
 ],
 "metadata": {
  "kernelspec": {
   "display_name": "Python 3 (ipykernel)",
   "language": "python",
   "name": "python3"
  },
  "language_info": {
   "codemirror_mode": {
    "name": "ipython",
    "version": 3
   },
   "file_extension": ".py",
   "mimetype": "text/x-python",
   "name": "python",
   "nbconvert_exporter": "python",
   "pygments_lexer": "ipython3",
   "version": "3.10.9"
  }
 },
 "nbformat": 4,
 "nbformat_minor": 5
}
